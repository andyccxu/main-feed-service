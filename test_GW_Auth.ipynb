{
 "cells": [
  {
   "cell_type": "code",
   "execution_count": 1,
   "metadata": {},
   "outputs": [],
   "source": [
    "import time\n",
    "import google.auth\n",
    "from google.auth import crypt, jwt\n",
    "import requests"
   ]
  },
  {
   "cell_type": "code",
   "execution_count": 2,
   "metadata": {},
   "outputs": [],
   "source": [
    "def generate_jwt(\n",
    "    sa_keyfile=\"./api-gw-key.json\",\n",
    "    sa_email=\"api-gw@w4153-cloud-computing.iam.gserviceaccount.com\",\n",
    "    audience=\"https://w4153-test\",\n",
    "    expiry_length=3600,\n",
    "):\n",
    "    \"\"\"Generates a signed JSON Web Token using a Google API Service Account.\"\"\"\n",
    "\n",
    "    now = int(time.time())\n",
    "\n",
    "    # build payload\n",
    "    payload = {\n",
    "        \"iat\": now,\n",
    "        # expires after 'expiry_length' seconds.\n",
    "        \"exp\": now + expiry_length,\n",
    "        # iss must match 'issuer' in the security configuration in your\n",
    "        # swagger spec (e.g. service account email). It can be any string.\n",
    "        \"iss\": sa_email,\n",
    "        # aud must be either your Endpoints service name, or match the value\n",
    "        # specified as the 'x-google-audience' in the OpenAPI document.\n",
    "        \"aud\": audience,\n",
    "        # sub and email should match the service account's email address\n",
    "        \"sub\": sa_email,\n",
    "        \"email\": sa_email,\n",
    "    }\n",
    "\n",
    "    # sign with keyfile\n",
    "    signer = google.auth.crypt.RSASigner.from_service_account_file(sa_keyfile)\n",
    "    jwt = google.auth.jwt.encode(signer, payload)\n",
    "\n",
    "    return jwt\n"
   ]
  },
  {
   "cell_type": "code",
   "execution_count": 3,
   "metadata": {},
   "outputs": [],
   "source": [
    "token = generate_jwt()\n",
    "# token.decode(\"utf-8\")"
   ]
  },
  {
   "cell_type": "code",
   "execution_count": 4,
   "metadata": {},
   "outputs": [],
   "source": [
    "url=\"https://gw-t3-9im5mh4n.uk.gateway.dev\""
   ]
  },
  {
   "cell_type": "code",
   "execution_count": 5,
   "metadata": {},
   "outputs": [
    {
     "name": "stdout",
     "output_type": "stream",
     "text": [
      "401 b'{\"code\":401,\"message\":\"Jwt is missing\"}\\n'\n"
     ]
    }
   ],
   "source": [
    "res = requests.get(url)\n",
    "print(res.status_code, res.content)"
   ]
  },
  {
   "cell_type": "code",
   "execution_count": 6,
   "metadata": {},
   "outputs": [],
   "source": [
    "def make_jwt_request(signed_jwt, url):\n",
    "    \"\"\"Makes an authorized request to the endpoint\"\"\"\n",
    "    headers = {\n",
    "        \"Authorization\": \"Bearer {}\".format(signed_jwt.decode(\"utf-8\")),\n",
    "        \"content-type\": \"application/json\",\n",
    "    }\n",
    "    response = requests.get(url, headers=headers)\n",
    "    print(response.status_code, response.content)\n",
    "    response.raise_for_status()"
   ]
  },
  {
   "cell_type": "code",
   "execution_count": 7,
   "metadata": {},
   "outputs": [
    {
     "name": "stdout",
     "output_type": "stream",
     "text": [
      "200 b'{\"message\":\"Welcome to the main feed service!\"}'\n"
     ]
    }
   ],
   "source": [
    "make_jwt_request(token, url)"
   ]
  },
  {
   "cell_type": "code",
   "execution_count": null,
   "metadata": {},
   "outputs": [],
   "source": []
  }
 ],
 "metadata": {
  "kernelspec": {
   "display_name": ".venv",
   "language": "python",
   "name": "python3"
  },
  "language_info": {
   "codemirror_mode": {
    "name": "ipython",
    "version": 3
   },
   "file_extension": ".py",
   "mimetype": "text/x-python",
   "name": "python",
   "nbconvert_exporter": "python",
   "pygments_lexer": "ipython3",
   "version": "3.12.7"
  }
 },
 "nbformat": 4,
 "nbformat_minor": 2
}
